{
 "cells": [
  {
   "cell_type": "markdown",
   "id": "79bc79b9-99f8-4849-b325-32c03a5bc16b",
   "metadata": {},
   "source": [
    "# [Minimum time to fulfil all orders](https://www.geeksforgeeks.org/problems/minimum-time-to-fulfil-all-orders/1?page=1&difficulty=Hard&sortBy=accuracy)"
   ]
  },
  {
   "cell_type": "code",
   "execution_count": 1,
   "id": "40a06eb5-9c46-4762-bb53-901d9a41559c",
   "metadata": {},
   "outputs": [],
   "source": [
    "from typing import List\n",
    "import math\n",
    "\n",
    "class Solution:\n",
    "    def findMinTime(self, n: int, l: int, arr: List[int]) -> int:\n",
    "        def donuts_in_time(rank, time):\n",
    "            # solve R * k*(k+1)/2 <= time\n",
    "            # => k^2 + k - (2*time)//rank <= 0\n",
    "            low, high = 0, time\n",
    "            ans = 0\n",
    "            while low <= high:\n",
    "                mid = (low + high) // 2\n",
    "                if rank * mid * (mid + 1) // 2 <= time:\n",
    "                    ans = mid\n",
    "                    low = mid + 1\n",
    "                else:\n",
    "                    high = mid - 1\n",
    "            return ans\n",
    "\n",
    "        # Binary search over possible time\n",
    "        low, high = 1, max(arr) * n * (n + 1) // 2  # worst case: slowest chef makes all\n",
    "        result = high\n",
    "\n",
    "        while low <= high:\n",
    "            mid = (low + high) // 2\n",
    "            total = 0\n",
    "            for rank in arr:\n",
    "                total += donuts_in_time(rank, mid)\n",
    "                if total >= n:\n",
    "                    break\n",
    "            if total >= n:\n",
    "                result = mid\n",
    "                high = mid - 1\n",
    "            else:\n",
    "                low = mid + 1\n",
    "\n",
    "        return result\n",
    "\n"
   ]
  },
  {
   "cell_type": "markdown",
   "id": "a91a7838-cd4d-44f5-8072-3194f67683af",
   "metadata": {},
   "source": [
    "## Problem Statement:\n",
    "Geek is organizing a party at his house. For the party, he needs exactly N donuts for the guests. Geek decides to order the donuts from a nearby restaurant, which has L chefs and each chef has a rank R. \n",
    "A chef with rank R can make 1 donut in the first R minutes, 1 more donut in the next 2R minutes, 1 more donut in 3R minutes, and so on.<br>\n",
    "For example. a chef with rank 2, can make one donut in 2 minutes, one more donut in the next 4 minutes, and one more in the next 6 minutes. So, it take 2 + 4 + 6 = 12 minutes to make 3 donuts. A chef can move on to making the next donut only after completing the previous one. All the chefs can work simultaneously.\n",
    "Since, it's time for the party, Geek wants to know the minimum time required in completing N donuts. Return an integer denoting the minimum time.<br>\n",
    "Your Task:  <br>\n",
    "You don't need to read input or print anything. Your task is to complete the function findMinTime() which takes an integer N as input and an array A[] of length L denoting the ranks and return an integer denoting the minimum time.<br>\n",
    "Expected Time Complexity: $O(N*logN)$<br>\n",
    "Expected Auxiliary Space: $O(1)$\n",
    "## Approach:\n",
    "You need to distribute the task of making exactly N donuts among L chefs, each with a rank R that determines how slow or fast they are. The time taken by a chef with rank R to make donuts increases linearly with the number of donuts made:\n",
    "* 1st donut: `1 * R` minutes\n",
    "\n",
    "* 2nd donut: `2 * R` minutes\n",
    "\n",
    "* 3rd donut: `3 * R` minutes\n",
    "\n",
    "* ...\n",
    "\n",
    "* k-th donut: `k * R` minutes\n",
    "\n",
    "So, the total time for k donuts by a chef with rank R is:\n",
    "\n",
    "$Time= R*(1+2+...+k)=R*\\frac{k(k+1)}{2}$\n",
    "\n",
    " The goal is to find the minimum amount of time `T` in which all chefs working simultaneously can make at least `N` donuts.\n",
    "Efficient Strategy (Using Binary Search):\n",
    "Use binary search on time `T` to find the minimum time required to make `N` donuts.\n",
    "For a candidate time `T`, calculate how many donuts each chef can make within `T` minutes.\n",
    "If total donuts made by all chefs ≥ `N`, try a smaller `T`.\n",
    "\n",
    "Else, increase `T`.\n",
    "\n",
    "To compute how many donuts a chef with rank `R` can make in time `T`, you solve:\n",
    "$R*\\frac{k(k+1)}{2} \\le T$\n",
    "Solve for max `k` using quadratic equation.\n",
    "## Time Complexity\n",
    "* Time Complexity: $O(\\log(T) * L * \\log(D))$, where `T` is the search space $(maxrank * N^2)$, and `D` is the max donuts per chef in time `T`.\n",
    "Space Complexity: $O(1)$ (ignores input storage)."
   ]
  }
 ],
 "metadata": {
  "kernelspec": {
   "display_name": "Python 3 (ipykernel)",
   "language": "python",
   "name": "python3"
  },
  "language_info": {
   "codemirror_mode": {
    "name": "ipython",
    "version": 3
   },
   "file_extension": ".py",
   "mimetype": "text/x-python",
   "name": "python",
   "nbconvert_exporter": "python",
   "pygments_lexer": "ipython3",
   "version": "3.12.9"
  }
 },
 "nbformat": 4,
 "nbformat_minor": 5
}
