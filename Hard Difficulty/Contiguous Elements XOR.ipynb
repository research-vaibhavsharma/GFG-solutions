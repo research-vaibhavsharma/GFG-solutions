{
 "cells": [
  {
   "cell_type": "markdown",
   "id": "71541a7d-b2b6-42ea-8a0f-72c6df833a02",
   "metadata": {},
   "source": [
    "# [Contineous Elements XOR](https://www.geeksforgeeks.org/problems/contiguous-elements-xor4151/1?page=1&difficulty=Hard&sortBy=accuracy)"
   ]
  },
  {
   "cell_type": "code",
   "execution_count": 1,
   "id": "2ec7a102-21c1-491a-a885-565f8517cc32",
   "metadata": {},
   "outputs": [],
   "source": [
    "class TrieNode:\n",
    "    def __init__(self):\n",
    "        self.children = [None, None]  # for bits 0 and 1\n",
    "\n",
    "class Trie:\n",
    "    def __init__(self):\n",
    "        self.root = TrieNode()\n",
    "    \n",
    "    # Insert a number into the trie\n",
    "    def insert(self, num):\n",
    "        node = self.root\n",
    "        for i in range(31, -1, -1):  # for 32-bit numbers\n",
    "            bit = (num >> i) & 1\n",
    "            if not node.children[bit]:\n",
    "                node.children[bit] = TrieNode()\n",
    "            node = node.children[bit]\n",
    "    \n",
    "    # Find the max XOR of num with elements in the trie\n",
    "    def query(self, num):\n",
    "        node = self.root\n",
    "        max_xor = 0\n",
    "        for i in range(31, -1, -1):\n",
    "            bit = (num >> i) & 1\n",
    "            toggled_bit = 1 - bit\n",
    "            if node.children[toggled_bit]:\n",
    "                max_xor |= (1 << i)\n",
    "                node = node.children[toggled_bit]\n",
    "            else:\n",
    "                node = node.children[bit]\n",
    "        return max_xor\n",
    "\n",
    "class Solution:\n",
    "    # Function to return maximum XOR value.\n",
    "    def maxSubarrayXOR(self, arr, n):\n",
    "        trie = Trie()\n",
    "        trie.insert(0)  # Important: Insert 0 to handle subarrays starting at index 0\n",
    "\n",
    "        max_xor = float('-inf')\n",
    "        prefix_xor = 0\n",
    "\n",
    "        for num in arr:\n",
    "            prefix_xor ^= num\n",
    "            max_xor = max(max_xor, trie.query(prefix_xor))\n",
    "            trie.insert(prefix_xor)\n",
    "        \n",
    "        return max_xor\n"
   ]
  },
  {
   "cell_type": "code",
   "execution_count": 2,
   "id": "6f55dc34-cdd5-455f-9ffe-8bc471f2f9fb",
   "metadata": {},
   "outputs": [
    {
     "name": "stdout",
     "output_type": "stream",
     "text": [
      "15\n",
      "7\n"
     ]
    }
   ],
   "source": [
    "sol = Solution()\n",
    "print(sol.maxSubarrayXOR([8,1,2,12],4))\n",
    "print(sol.maxSubarrayXOR([1,2,3,4],4))"
   ]
  },
  {
   "cell_type": "markdown",
   "id": "425acfda-25fd-48da-a59c-4f4aff5f9e1c",
   "metadata": {},
   "source": [
    "To solve the problem of finding the maximum XOR of any contiguous subarray, we can use a combination of `prefix_xor` and a `Trie` (prefix tree) for efficient querying of the maximum XOR value at each step.\n",
    "\n",
    "Approach:\n",
    "1. Use prefix XOR:\n",
    "    * `prefixXOR[i]` is the XOR of all elements from index `0` to `i`.\n",
    "    * The XOR of a subarray from `i+1` to `j` is: `prefixXOR[j]` ^ `prefixXOR[i]`.\n",
    "2. Insert each `prefix_XOR` into a Trie and for each new prefix, query the `Trie` for the prefix that gives the `max_xor` when XORed with the current prefix.\n",
    "3. Maintain the `max_xor` seen so far.\n",
    "\n",
    "Time Complexity:\n",
    "Insert & Query: $O(32)$ = $O(1)$ per number (since 32-bit integers)<br>\n",
    "Total: $O(N)$"
   ]
  }
 ],
 "metadata": {
  "kernelspec": {
   "display_name": "Python 3 (ipykernel)",
   "language": "python",
   "name": "python3"
  },
  "language_info": {
   "codemirror_mode": {
    "name": "ipython",
    "version": 3
   },
   "file_extension": ".py",
   "mimetype": "text/x-python",
   "name": "python",
   "nbconvert_exporter": "python",
   "pygments_lexer": "ipython3",
   "version": "3.12.9"
  }
 },
 "nbformat": 4,
 "nbformat_minor": 5
}
