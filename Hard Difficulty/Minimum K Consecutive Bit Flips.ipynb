{
 "cells": [
  {
   "cell_type": "markdown",
   "id": "28f13605-3032-48f3-91ac-4bbacdcfae38",
   "metadata": {},
   "source": [
    "# [Minimum K Consecutive Bit Flips](https://www.geeksforgeeks.org/problems/minimum-number-of-k-consecutive-bit-flips--171650/1?page=1&difficulty=Hard&sortBy=accuracy)"
   ]
  },
  {
   "cell_type": "code",
   "execution_count": 1,
   "id": "2f78b060-d524-45aa-bec5-abc33585e09e",
   "metadata": {},
   "outputs": [],
   "source": [
    "class Solution:\n",
    "    def kBitFlips(self, arr, k):\n",
    "        n = len(arr)\n",
    "        hint = [0] * n\n",
    "        flip = 0  # current flip state (0 or 1)\n",
    "        res = 0   # number of flips\n",
    "\n",
    "        for i in range(n):\n",
    "            if i >= k:\n",
    "                flip ^= hint[i - k]  # remove the effect of a flip that ends here\n",
    "\n",
    "            # if current bit after flips is 0, we need to flip here\n",
    "            if arr[i] ^ flip == 0:\n",
    "                if i + k > n:\n",
    "                    return -1  # cannot flip outside of bounds\n",
    "                hint[i] = 1  # mark a flip starting here\n",
    "                flip ^= 1    # toggle the flip state\n",
    "                res += 1\n",
    "\n",
    "        return res"
   ]
  },
  {
   "cell_type": "markdown",
   "id": "4643e095-4aca-4224-8a3a-f6504e6ad03d",
   "metadata": {},
   "source": [
    "## Problem statement:\n",
    "Given a binary array `arr[]` and an integer `k`. A `k-bit` flip involves selecting a contiguous subarray of length k from arr[] and flipping all its bits - changing every `0` to `1` and every `1` to `0` simultaneously. \n",
    "Your task is to return the minimum number of k-bit flips needed to eliminate all `0s` from the array. If it is impossible to achieve, return `-1`.\n",
    "\n",
    "## Approach: Greedy + Sliding Window\n",
    "We process the array from left to right and flip only when we must.<br>\n",
    "Core Idea:<br>\n",
    "* At each index i, if the bit is 0 and we are not already under a flip that will turn it to 1, we must flip a subarray starting from i.\n",
    " * We keep track of the current flip effect using a sliding window and an auxiliary array.<br>\n",
    "\n",
    "Key Concepts:<br>\n",
    "1. Flip Count Tracker `(is_flipped)`:\n",
    "    * Use a variable flip to track how many flips are affecting the current bit.\n",
    "    * We also use an auxiliary array hint where `hint[i] = 1` means a flip starts at index `i`.\n",
    "2. Canceling the Flip After `k-Steps`:\n",
    "    * When you start a flip at `i`, it affects indices from `i` to `i+k-1`.\n",
    "    * After `k` steps, that flip no longer affects the array, so we subtract it from flip when we pass index `i-k`.\n",
    "\n",
    "## Time Complexity:\n",
    "Time: $O(n)$.<br>\n",
    "Space: $O(n)$ (can be optimized to O(1) if you use a queue or other method, but this version is simple and clear)"
   ]
  }
 ],
 "metadata": {
  "kernelspec": {
   "display_name": "Python 3 (ipykernel)",
   "language": "python",
   "name": "python3"
  },
  "language_info": {
   "codemirror_mode": {
    "name": "ipython",
    "version": 3
   },
   "file_extension": ".py",
   "mimetype": "text/x-python",
   "name": "python",
   "nbconvert_exporter": "python",
   "pygments_lexer": "ipython3",
   "version": "3.12.9"
  }
 },
 "nbformat": 4,
 "nbformat_minor": 5
}
