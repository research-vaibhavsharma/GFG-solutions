{
 "cells": [
  {
   "cell_type": "markdown",
   "id": "b2bd9c29-2d3f-4f97-867a-0468fedb3b3c",
   "metadata": {},
   "source": [
    "# [Maximum Number of coins](https://www.geeksforgeeks.org/problems/maximum-number-of-coins--170647/1?page=1&difficulty=Hard&sortBy=accuracy)"
   ]
  },
  {
   "cell_type": "code",
   "execution_count": null,
   "id": "fe8ab9ec-58fd-49cf-97d4-fec7477a6acb",
   "metadata": {},
   "outputs": [],
   "source": [
    "class Solution():\n",
    "    def maxCoins(self, N, a):\n",
    "        # Add 1 at both ends\n",
    "        a = [1] + a + [1]\n",
    "        n = len(a)\n",
    "        \n",
    "        # dp[i][j] = max coins from bursting balloons between i and j\n",
    "        dp = [[0] * n for _ in range(n)]\n",
    "\n",
    "        # Length of the current window (we need at least 3 points to burst a balloon between i and j)\n",
    "        for length in range(2, n):  # difference between i and j\n",
    "            for i in range(0, n - length):\n",
    "                j = i + length\n",
    "                for k in range(i + 1, j):\n",
    "                    dp[i][j] = max(dp[i][j],\n",
    "                                   dp[i][k] + a[i] * a[k] * a[j] + dp[k][j])\n",
    "\n",
    "        return dp[0][n - 1]\n"
   ]
  },
  {
   "cell_type": "markdown",
   "id": "f679fed0-ab2c-4dcd-8361-7ee15754539f",
   "metadata": {},
   "source": [
    "## Problem Statement:\n",
    "We have been given N balloons, each with a number of coins associated with it. On bursting a balloon i, the number of coins gained is equal to `A[i-1]*A[i]*A[i+1]`.\n",
    "Also, balloons `i-1` and `i+1` now become adjacent. Find the maximum possible profit earned after bursting all the balloons. Assume an extra 1 at each boundary.<br>\n",
    "Your Task:  \n",
    "You don't need to read input or print anything. Your task is to complete the function maxCoins() which takes the array arr[], its size N, and returns the maximum number of coins that can be collected.\n",
    "\n",
    "## Approach: Dynamic Programming\n",
    "Let:\n",
    "`dp[i][j]` = max coins obtained by bursting all balloons in the subarray `a[i+1...j-1]`.<br>\n",
    "Transition:\n",
    "We iterate over all possible `k (i < k < j)` and try bursting balloon `k last` in the subarray:\n",
    "`dp[i][j] = max(dp[i][j], dp[i][k] + a[i]*a[k]*a[j] + dp[k][j])`<br>\n",
    "Initialization:\n",
    "We initialize `dp[i][i+1] = 0` because there are no balloons between `i` and `i+1`.\n",
    "\n",
    "## Time Complexity:\n",
    "Time Complexity: $O(N^3)$<br>\n",
    "Space Complexity: $O(N^2)$\n",
    "\n"
   ]
  }
 ],
 "metadata": {
  "kernelspec": {
   "display_name": "Python 3 (ipykernel)",
   "language": "python",
   "name": "python3"
  },
  "language_info": {
   "codemirror_mode": {
    "name": "ipython",
    "version": 3
   },
   "file_extension": ".py",
   "mimetype": "text/x-python",
   "name": "python",
   "nbconvert_exporter": "python",
   "pygments_lexer": "ipython3",
   "version": "3.12.9"
  }
 },
 "nbformat": 4,
 "nbformat_minor": 5
}
