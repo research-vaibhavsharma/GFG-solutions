{
 "cells": [
  {
   "cell_type": "markdown",
   "id": "15151f42-8646-4ea1-b3ca-2e965d2d17b7",
   "metadata": {},
   "source": [
    "# [Find the String](https://www.geeksforgeeks.org/problems/find-the-string/1?page=1&difficulty=Hard&sortBy=accuracy)"
   ]
  },
  {
   "cell_type": "code",
   "execution_count": 1,
   "id": "88c95934-c741-4dee-85bb-c208d0b878f0",
   "metadata": {},
   "outputs": [],
   "source": [
    "class Solution:\n",
    "    def findString(self, N, K):\n",
    "        seen = set()\n",
    "        ans = []\n",
    "        def dfs(node):\n",
    "            for x in range(K):\n",
    "                nei = node + str(x)\n",
    "                if nei not in seen:\n",
    "                    seen.add(nei)\n",
    "                    dfs(nei[1:])\n",
    "                    ans.append(str(x))\n",
    "        \n",
    "        dfs(\"0\" * (N - 1))\n",
    "        return \"0\" * (N - 1) + ''.join(reversed(ans))\n"
   ]
  },
  {
   "cell_type": "code",
   "execution_count": 2,
   "id": "bb170d87-5346-4ed8-b24c-90ca2792963c",
   "metadata": {},
   "outputs": [
    {
     "name": "stdout",
     "output_type": "stream",
     "text": [
      "00110\n",
      "0010211220\n"
     ]
    }
   ],
   "source": [
    "sol = Solution()\n",
    "print(sol.findString(2,2))# \"00110\"\n",
    "print(sol.findString(2,3))# \"0010211220\""
   ]
  },
  {
   "cell_type": "markdown",
   "id": "7f839965-b423-4203-b01f-a6d1c525e66e",
   "metadata": {},
   "source": [
    "A De Bruijn sequence problem of order (`N`,`K`): It is a cyclic sequence where every possible substring of length `N` occurs exactly once.<br>\n",
    "Problem Statement: Given two integers `N` and `K`, the task is to find the string `S` of minimum length such that it contains all possible strings of size `N` as a substring. The characters of the string should be from integers ranging from `0` to `K-1`.  \n",
    "\n",
    "## Approach:\n",
    "1. Use depth-first search (DFS) to construct the De Bruijn sequence.\n",
    "2. Build the sequence as a `De Bruijn graph`:\n",
    "    * Nodes are strings of length `N-1`.\n",
    "    * Edges correspond to appending one of the `K` digits.\n",
    "3. `Eulerian path` on this graph will yield the required sequence.\n",
    "4. Finally, convert it into a linear (non-cyclic) string by adding the initial `N-1` digits at the end.\n",
    "\n",
    "## Time Complexity $O(K^N)$:\n",
    "* The number of edges to explore = $K^N$\n",
    "* Each takes constant time to process."
   ]
  }
 ],
 "metadata": {
  "kernelspec": {
   "display_name": "Python 3 (ipykernel)",
   "language": "python",
   "name": "python3"
  },
  "language_info": {
   "codemirror_mode": {
    "name": "ipython",
    "version": 3
   },
   "file_extension": ".py",
   "mimetype": "text/x-python",
   "name": "python",
   "nbconvert_exporter": "python",
   "pygments_lexer": "ipython3",
   "version": "3.12.9"
  }
 },
 "nbformat": 4,
 "nbformat_minor": 5
}
