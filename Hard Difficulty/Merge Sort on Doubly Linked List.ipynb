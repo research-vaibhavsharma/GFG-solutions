{
 "cells": [
  {
   "cell_type": "markdown",
   "id": "53b48c13-a118-41ff-a69c-c1e9be0a3863",
   "metadata": {},
   "source": [
    "# [Merge Sort on Doubly Linked List](https://www.geeksforgeeks.org/problems/merge-sort-on-doubly-linked-list/1?page=1&difficulty=Hard&sortBy=accuracy)"
   ]
  },
  {
   "cell_type": "code",
   "execution_count": 1,
   "id": "a99e69ce-37b7-470b-a2ca-45db00da382e",
   "metadata": {},
   "outputs": [],
   "source": [
    "class DLLNode:\n",
    "    def __init__(self, val):\n",
    "        self.data = val\n",
    "        self.next = None\n",
    "        self.prev = None\n",
    "\n",
    "class Solution:\n",
    "    # Function to sort the given doubly linked list using Merge Sort.\n",
    "    def sort_doubly(self, head):\n",
    "        if not head or not head.next:\n",
    "            return head\n",
    "\n",
    "        # Split the list into two halves\n",
    "        second = self.split(head)\n",
    "\n",
    "        # Recur for each half\n",
    "        head = self.sort_doubly(head)\n",
    "        second = self.sort_doubly(second)\n",
    "\n",
    "        # Merge the two sorted halves\n",
    "        return self.merge(head, second)\n",
    "\n",
    "    # Function to split the doubly linked list into two halves\n",
    "    def split(self, head):\n",
    "        slow = head\n",
    "        fast = head\n",
    "\n",
    "        while fast.next and fast.next.next:\n",
    "            slow = slow.next\n",
    "            fast = fast.next.next\n",
    "\n",
    "        second = slow.next\n",
    "        slow.next = None\n",
    "        if second:\n",
    "            second.prev = None\n",
    "        return second\n",
    "\n",
    "    # Function to merge two sorted doubly linked lists\n",
    "    def merge(self, first, second):\n",
    "        if not first:\n",
    "            return second\n",
    "        if not second:\n",
    "            return first\n",
    "\n",
    "        if first.data < second.data:\n",
    "            first.next = self.merge(first.next, second)\n",
    "            if first.next:\n",
    "                first.next.prev = first\n",
    "            first.prev = None\n",
    "            return first\n",
    "        else:\n",
    "            second.next = self.merge(first, second.next)\n",
    "            if second.next:\n",
    "                second.next.prev = second\n",
    "            second.prev = None\n",
    "            return second"
   ]
  },
  {
   "cell_type": "markdown",
   "id": "5afb69de-7bae-494d-84ea-50a827100e9a",
   "metadata": {},
   "source": [
    "## Problem Statement:\n",
    "Given Pointer/Reference to the head of a doubly linked list, the task is to Sort the given doubly linked list using Merge Sort in both non-decreasing and non-increasing order.<br>\n",
    "Note: Return the head of the sorted non-decreasing doubly linked list. The driver code will print it forward and backward in both directions.\n",
    "\n",
    "## Approach:\n",
    "1. Base Case: If the list is empty or has only one node, it's already sorted.\n",
    "2. Split: Find the middle of the doubly linked list.\n",
    "3. Recursively Sort: Apply merge sort to both halves.\n",
    "4. Merge: Merge the two sorted halves in a sorted manner while maintaining both next and prev pointers.\n",
    "### Helper Functions:\n",
    "`split(head)`: To find the middle and split the list.<br>\n",
    "`merge(first, second)`: To merge two sorted doubly linked lists.\n",
    "## Time Complexity:\n",
    "Time Complexity: $O(n \\log n)$, where `n` is the number of nodes.<br>\n",
    "Space Complexity: $O(\\log n)$ due to recursive stack space."
   ]
  }
 ],
 "metadata": {
  "kernelspec": {
   "display_name": "Python 3 (ipykernel)",
   "language": "python",
   "name": "python3"
  },
  "language_info": {
   "codemirror_mode": {
    "name": "ipython",
    "version": 3
   },
   "file_extension": ".py",
   "mimetype": "text/x-python",
   "name": "python",
   "nbconvert_exporter": "python",
   "pygments_lexer": "ipython3",
   "version": "3.12.9"
  }
 },
 "nbformat": 4,
 "nbformat_minor": 5
}
