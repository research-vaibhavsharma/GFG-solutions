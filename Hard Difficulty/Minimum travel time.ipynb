{
 "cells": [
  {
   "cell_type": "markdown",
   "id": "92921188-1732-49f7-aef7-90cf034b44b7",
   "metadata": {},
   "source": [
    "# [Minimum travel time](https://www.geeksforgeeks.org/problems/minimum-travel-time/1?page=1&difficulty=Hard&sortBy=accuracy)"
   ]
  },
  {
   "cell_type": "code",
   "execution_count": 1,
   "id": "48b4fde0-5541-46fa-a192-662eac1e74e2",
   "metadata": {},
   "outputs": [],
   "source": [
    "from collections import deque\n",
    "\n",
    "class Solution:\n",
    "    def Solve(self, n, grid):\n",
    "        def is_valid(T):\n",
    "            if grid[0][0] > T:\n",
    "                return False\n",
    "            visited = [[False]*n for _ in range(n)]\n",
    "            q = deque()\n",
    "            q.append((0, 0))\n",
    "            visited[0][0] = True\n",
    "            \n",
    "            while q:\n",
    "                x, y = q.popleft()\n",
    "                if x == n-1 and y == n-1:\n",
    "                    return True\n",
    "                for dx, dy in [(-1,0), (1,0), (0,-1), (0,1)]:\n",
    "                    nx, ny = x+dx, y+dy\n",
    "                    if 0 <= nx < n and 0 <= ny < n and not visited[nx][ny] and grid[nx][ny] <= T:\n",
    "                        visited[nx][ny] = True\n",
    "                        q.append((nx, ny))\n",
    "            return False\n",
    "        \n",
    "        low, high = 0, max(max(row) for row in grid)\n",
    "        result = high\n",
    "        \n",
    "        while low <= high:\n",
    "            mid = (low + high) // 2\n",
    "            if is_valid(mid):\n",
    "                result = mid\n",
    "                high = mid - 1\n",
    "            else:\n",
    "                low = mid + 1\n",
    "        \n",
    "        return result\n"
   ]
  },
  {
   "cell_type": "markdown",
   "id": "f5ddb236-b686-408c-a867-d485d34e7f4b",
   "metadata": {},
   "source": [
    "## Problem Statement:(minimum threshold pathfinding problem)\n",
    "given an n x n integer matrix grid where each value grid[i][j] represents the height of the cell (i, j).\n",
    "You can travel from a cell to another 4-directionally adjacent cell if and only the height of both the cells are at most T. You can travel infinite distances in zero time but you must stay within the boundaries of the grid during your travel.\n",
    "You are currently at cell (0, 0) and the value of T is 0 and you wish to go to cell (n-1,n-1).\n",
    "Find the minimum time it will take to reach the cell (n, n) if the value of T increase by 1 every second.\n",
    "\n",
    "## Approach: Binary Search + BFS/DFS \n",
    "1. Binary Search over possible values of T (from 0 to max height in grid).\n",
    "2. For each candidate T, run BFS or DFS starting from (0, 0), checking if it’s possible to reach (n-1, n-1) by only stepping on cells with height ≤ T.\n",
    "3. Return the minimum T for which the path exists. Since time = T, this is the minimum time.\n",
    "\n",
    "## Time Complexity:\n",
    "* Binary Search=$O(log h)$\n",
    "* BFS/DFS for each candidate T takes $O(n^2)$\n",
    "* Total complexity: $O(n^2 \\log h)$"
   ]
  }
 ],
 "metadata": {
  "kernelspec": {
   "display_name": "Python 3 (ipykernel)",
   "language": "python",
   "name": "python3"
  },
  "language_info": {
   "codemirror_mode": {
    "name": "ipython",
    "version": 3
   },
   "file_extension": ".py",
   "mimetype": "text/x-python",
   "name": "python",
   "nbconvert_exporter": "python",
   "pygments_lexer": "ipython3",
   "version": "3.12.9"
  }
 },
 "nbformat": 4,
 "nbformat_minor": 5
}
