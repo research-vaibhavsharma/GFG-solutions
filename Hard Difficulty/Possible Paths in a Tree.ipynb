{
 "cells": [
  {
   "cell_type": "markdown",
   "id": "bd45a6b9-ebd6-4355-bca5-136ba34aac96",
   "metadata": {},
   "source": [
    "# [Possible Paths in a Tree](https://www.geeksforgeeks.org/problems/possible-paths--141628/1?page=1&difficulty=Hard&sortBy=accuracy)"
   ]
  },
  {
   "cell_type": "code",
   "execution_count": null,
   "id": "26ba65e7-4057-4136-b1d0-4d9829f2ecb5",
   "metadata": {},
   "outputs": [],
   "source": [
    "class Solution:\n",
    "    def maximumWeight(self, n, edges, q, queries):\n",
    "        # Disjoint Set Union (DSU) implementation with path compression and union by size\n",
    "        class DSU:\n",
    "            def __init__(self, n):\n",
    "                self.parent = list(range(n + 1))\n",
    "                self.size = [1] * (n + 1)\n",
    "            \n",
    "            def find(self, x):\n",
    "                if self.parent[x] != x:\n",
    "                    self.parent[x] = self.find(self.parent[x])\n",
    "                return self.parent[x]\n",
    "            \n",
    "            def union(self, x, y):\n",
    "                xr = self.find(x)\n",
    "                yr = self.find(y)\n",
    "                if xr == yr:\n",
    "                    return 0  # No new paths formed\n",
    "                # Union by size\n",
    "                if self.size[xr] < self.size[yr]:\n",
    "                    xr, yr = yr, xr\n",
    "                # New paths formed are size[xr] * size[yr]\n",
    "                new_paths = self.size[xr] * self.size[yr]\n",
    "                self.size[xr] += self.size[yr]\n",
    "                self.parent[yr] = xr\n",
    "                return new_paths\n",
    "\n",
    "        # Step 1: Sort edges by weight\n",
    "        edges.sort(key=lambda x: x[2])\n",
    "\n",
    "        # Step 2: Sort queries and remember original indices\n",
    "        indexed_queries = sorted((x, i) for i, x in enumerate(queries))\n",
    "\n",
    "        # Step 3: Process edges and queries\n",
    "        dsu = DSU(n)\n",
    "        res = [0] * q\n",
    "        total_paths = 0\n",
    "        i = 0  # pointer for edges\n",
    "\n",
    "        for x, idx in indexed_queries:\n",
    "            # Add edges with weight ≤ x\n",
    "            while i < len(edges) and edges[i][2] <= x:\n",
    "                u, v, w = edges[i]\n",
    "                total_paths += dsu.union(u, v)\n",
    "                i += 1\n",
    "            res[idx] = total_paths\n",
    "\n",
    "        return res"
   ]
  },
  {
   "cell_type": "markdown",
   "id": "254edb61-f80c-43f8-bd7e-69fcadfd1c21",
   "metadata": {},
   "source": [
    "## Problem Statement:\n",
    "Given a weighted tree with n nodes and (n-1) edges. You are given q queries. Each query contains a number x. For each query, find the number of paths in which the maximum edge weight is less than or equal to x.<br>\n",
    "Note: Path from A to B and B to A are considered to be the same.<br>\n",
    "Your Task:  <br>\n",
    "You don't need to read input or print anything. Complete the function maximumWeight()which takes integers n, list of edges where each edge is given by {start,end,weight}, an integer q and a list of q queries as input parameters and returns a list of integers denoting the number of possible paths for each query. <br>\n",
    "Expected Time Complexity: O(nlogn + qlogn)<br>\n",
    "Expected Auxiliary Space: O(n)\n",
    "\n",
    "## Approach:\n",
    "1. Sort the `Edges` by their `weight` (ascending).\n",
    "2. Sort Queries by the value of `x`, keeping track of their original `indices`.\n",
    "3. Use `Union-Find (DSU)` to progressively build connected components:\n",
    "    * When you add an edge with `weight ≤ x`, any two nodes that get connected create new valid paths.\n",
    "    * For each union operation, if component `sizes` are `a` and `b`, `new paths = a * b`.\n",
    "4. For each query, count how many paths exist after inserting all edges with `weight ≤ x`.\n",
    "# Complexity:\n",
    "Sorting edges: $O(n \\log n)$<br>\n",
    "Sorting queries: $O(q \\log q)$<br>\n",
    "DSU operations: Amortized $O(\\alpha(n)) ≈ O(1)$ per operation<br>\n",
    "Total time: $O(n \\log n + q \\log q)$, which meets the expected complexity.\n",
    "\n"
   ]
  }
 ],
 "metadata": {
  "kernelspec": {
   "display_name": "Python 3 (ipykernel)",
   "language": "python",
   "name": "python3"
  },
  "language_info": {
   "codemirror_mode": {
    "name": "ipython",
    "version": 3
   },
   "file_extension": ".py",
   "mimetype": "text/x-python",
   "name": "python",
   "nbconvert_exporter": "python",
   "pygments_lexer": "ipython3",
   "version": "3.12.9"
  }
 },
 "nbformat": 4,
 "nbformat_minor": 5
}
