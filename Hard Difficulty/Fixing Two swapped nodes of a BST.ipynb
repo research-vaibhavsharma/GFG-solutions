{
 "cells": [
  {
   "cell_type": "markdown",
   "id": "e99a1e05-d1d9-4348-8050-a3eafa2bde1f",
   "metadata": {},
   "source": [
    "# [Fixing Two swapped nodes of a BST](https://www.geeksforgeeks.org/problems/fixing-two-swapped-nodes-of-a-bst--170646/1?page=1&difficulty=Hard&sortBy=accuracy)"
   ]
  },
  {
   "cell_type": "code",
   "execution_count": 1,
   "id": "854af562-995c-4d76-8f66-f49bb317212b",
   "metadata": {},
   "outputs": [],
   "source": [
    "# Tree Node\n",
    "class Node:\n",
    "    def __init__(self, val):\n",
    "        self.right = None\n",
    "        self.data = val\n",
    "        self.left = None\n",
    "        \n",
    "class Solution:\n",
    "    def correctBST(self, root):\n",
    "        # Initialize pointers for tracking swapped nodes\n",
    "        self.first = self.middle = self.last = self.prev = None\n",
    "        # Helper function for in-order traversal\n",
    "        def inorder(node):\n",
    "            if not node:\n",
    "                return\n",
    "            inorder(node.left)\n",
    "            \n",
    "            # Detect swapped nodes\n",
    "            if self.prev and node.data < self.prev.data:\n",
    "                if not self.first:\n",
    "                    # First violation\n",
    "                    self.first = self.prev\n",
    "                    self.middle = node\n",
    "                else:\n",
    "                    # Second violation\n",
    "                    self.last = node\n",
    "\n",
    "            self.prev = node\n",
    "            inorder(node.right)\n",
    "        \n",
    "        # Perform in-order traversal to find the two nodes\n",
    "        inorder(root)\n",
    "\n",
    "        # Fix the BST by swapping the node values\n",
    "        if self.first and self.last:\n",
    "            self.first.data, self.last.data = self.last.data, self.first.data\n",
    "        elif self.first and self.middle:\n",
    "            self.first.data, self.middle.data = self.middle.data, self.first.data\n",
    "\n",
    "        return root"
   ]
  },
  {
   "cell_type": "markdown",
   "id": "7e8347c3-f670-46ba-bb93-d12f82512f31",
   "metadata": {},
   "source": [
    "## Problem Statement:\n",
    "Two of the nodes of a Binary Search Tree (BST) are swapped. Fix (or correct) the BST by swapping them back. Do not change the structure of the tree.<br>\n",
    "Note: It is guaranteed that the given input will form BST, except for 2 nodes that will be wrong.<br>\n",
    "Your Task:<br>\n",
    "You don't need to take any input. Just complete the function correctBst() that takes root node as parameter. The function should return the root of corrected BST. BST will then be checked by driver code and 0 or 1 will be printed.<br>\n",
    "Expected Time Complexity: O(Number of nodes)<br>\n",
    "Expected Auxiliary Space: O(logN), N = number of nodes<br>\n",
    "## Key Observation\n",
    "In a valid BST, the in-order traversal (left-root-right) yields sorted node values in increasing order.\n",
    "If two nodes are swapped, this sorted order is violated in at most two places.\n",
    "## Approach:\n",
    "1. In-order Traversal:\n",
    "    * Traverse the tree in `in-order` while keeping track of the previous node visited.\n",
    "    * Identify the two nodes that are out of order.\n",
    "    * If a node’s value is less than the previous node's value, it means we have found a violation.\n",
    "2. Detecting the Swapped Nodes:\n",
    "    * First violation: store `first` as `prev` and `middle` as `current`.\n",
    "    * Second violation (if exists): store last as `current`.\n",
    "    * Finally:\n",
    "      * If two violations are `found`, the swapped nodes are `first` and `last`.\n",
    "      * If only one violation is found, the swapped nodes are `first` and `middle`.\n",
    "3. Swap the Values of the two detected nodes.\n",
    "## time Complexity:\n",
    "The worst case time complexity of the `correctBST` function is $O(n)$ and space complexity is $O(h)$."
   ]
  }
 ],
 "metadata": {
  "kernelspec": {
   "display_name": "Python 3 (ipykernel)",
   "language": "python",
   "name": "python3"
  },
  "language_info": {
   "codemirror_mode": {
    "name": "ipython",
    "version": 3
   },
   "file_extension": ".py",
   "mimetype": "text/x-python",
   "name": "python",
   "nbconvert_exporter": "python",
   "pygments_lexer": "ipython3",
   "version": "3.12.9"
  }
 },
 "nbformat": 4,
 "nbformat_minor": 5
}
